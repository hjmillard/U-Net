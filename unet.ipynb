{
 "cells": [
  {
   "cell_type": "code",
   "execution_count": 1,
   "id": "8751583b",
   "metadata": {},
   "outputs": [],
   "source": [
    "import torch\n",
    "import torchvision\n",
    "from torch import nn\n",
    "from torch.nn import functional as F\n",
    "import os\n",
    "from PIL import Image"
   ]
  },
  {
   "cell_type": "code",
   "execution_count": null,
   "id": "3a60ea85",
   "metadata": {},
   "outputs": [],
   "source": [
    "def build_conv_block(in_channels, encode=True):\n",
    "    if encode:\n",
    "        return nn.Sequential(\n",
    "            nn.Conv2d(in_channels=in_channels, out_channels=in_channels*2, kernel_size=3, stride=1, padding=1),\n",
    "            nn.BatchNorm2d(in_channels*2),\n",
    "            nn.ReLU(),\n",
    "            \n",
    "            nn.Conv2d(in_channels=in_channels*2, out_channels=in_channels*2, kernel_size=3, stride=1, padding=1),\n",
    "            nn.BatchNorm2d(in_channels*2),\n",
    "            nn.ReLU(),\n",
    "        )\n",
    "    else:\n",
    "        return nn.Sequential(\n",
    "            nn.ConvTranspose2d(in_channels=in_channels, out_channels=in_channels/2, kernel_size=2, stride=2, padding=1),\n",
    "\n",
    "            nn.Conv2d(in_channels=in_channels/2, out_channels=in_channels/2, kernel_size=3, stride=1, padding=1),\n",
    "            nn.BatchNorm2d(in_channels/2),\n",
    "            nn.ReLU(),\n",
    "            \n",
    "            nn.Conv2d(in_channels=in_channels/2, out_channels=in_channels/2, kernel_size=3, stride=1, padding=1),\n",
    "            nn.BatchNorm2d(in_channels/2),\n",
    "            nn.ReLU(),\n",
    "        )"
   ]
  },
  {
   "cell_type": "code",
   "execution_count": null,
   "id": "bb251dfe",
   "metadata": {},
   "outputs": [],
   "source": [
    "class ConvBlock(nn.Module):\n",
    "    def __init__(self, in_channels, encode=True):\n",
    "        super(ConvBlock, self).__init__()\n",
    "        self.encode = encode\n",
    "        self.conv = build_conv_block(in_channels=in_channels, encode=encode)\n",
    "    \n",
    "    def forward(self, X):\n",
    "        if self.encode:\n",
    "            skip_connection = self.conv(X)\n",
    "            return skip_connection, nn.MaxPool2d(kernel_size=2, stride=2)\n",
    "        else:\n",
    "            return self.conv(X)"
   ]
  },
  {
   "cell_type": "code",
   "execution_count": null,
   "id": "023ff8c3",
   "metadata": {},
   "outputs": [],
   "source": [
    "class YouNet(nn.Module):\n",
    "    def __init__(self, in_channels, num_classes):\n",
    "        super(YouNet, self).__init__()\n",
    "        self.contractive_path = nn.ModuleDict({\n",
    "            'encode1': ConvBlock(in_channels=512, encode=True),\n",
    "            'encode2': ConvBlock(in_channels=256, encode=True),\n",
    "            'encode3': ConvBlock(in_channels=128, encode=True),\n",
    "            'encode4': ConvBlock(in_channels=64, encode=True)\n",
    "        })\n",
    "        self.trough = nn.Sequential(\n",
    "            nn.Conv2d(in_channels=512*2, out_channels=512*2, kernel_size=3, stride=1, padding=1),\n",
    "            nn.BatchNorm2d(512*2),\n",
    "            nn.ReLU(),\n",
    "\n",
    "            nn.Conv2d(in_channels=521*2, out_channels=512*2, kernel_size=3, stride=1, padding=1),\n",
    "            nn.BatchNorm2d(512*2),\n",
    "            nn.ReLU(),\n",
    "        )\n",
    "        self.expansive_path = nn.ModuleDict({\n",
    "            'decode1': ConvBlock(in_channels=64*2, encode=False),\n",
    "            'decode2': ConvBlock(in_channels=128*2, encode=False),\n",
    "            'decode3': ConvBlock(in_channels=256*2, encode=False),\n",
    "            'decode4': ConvBlock(in_channels=512*2, encode=False)\n",
    "        })\n",
    "        self.final_layer = nn.Conv2d(in_channels=64, out_channels=num_classes, kernel_size=1)\n",
    "    \n",
    "    def forward(self, X):\n",
    "        skip_connections = []\n",
    "\n",
    "        # Train the contractive path\n",
    "        for conv_block in self.contractive_path.items():\n",
    "            skip, X = conv_block(X)\n",
    "            skip_connections.append(skip)\n",
    "        \n",
    "        # Train the trough\n",
    "        X = self.trough(X)\n",
    "\n",
    "        # Train the expansive path\n",
    "        for conv_block in self.expansive_path.items():\n",
    "            X = torch.cat((X, skip_connections.pop()))\n",
    "            X = conv_block(X)\n",
    "    "
   ]
  },
  {
   "cell_type": "code",
   "execution_count": null,
   "id": "f615320e",
   "metadata": {},
   "outputs": [],
   "source": [
    "def build_encoder_block(in_channels):\n",
    "    '''Builds the contracting path of the U-Net.'''\n",
    "    skip_connection = build_conv_block(in_channels=in_channels, encode=True)\n",
    "    encoder = nn.MaxPool2d(kernel_size=2, stride=2)\n",
    "    \n",
    "    return skip_connection, encoder"
   ]
  },
  {
   "cell_type": "code",
   "execution_count": null,
   "id": "c6638caa",
   "metadata": {},
   "outputs": [],
   "source": [
    "def build_decoder_block(in_channels):\n",
    "    '''Builds the expansive path of the U-Net.'''\n",
    "    # concatenation = torch.concat((input, skip_connection), dim=1)\n",
    "    decoder = build_conv_block(in_channels=in_channels, encode=False)\n",
    "    return decoder"
   ]
  },
  {
   "cell_type": "code",
   "execution_count": null,
   "id": "13f6dae0",
   "metadata": {},
   "outputs": [],
   "source": [
    "def build_trough_block(in_channels):\n",
    "    trough = nn.Sequential(\n",
    "        nn.Conv2d(in_channels=in_channels, out_channels=in_channels*2, kernel_size=3, stride=1),\n",
    "        nn.BatchNorm2d(num_features=in_channels*2),\n",
    "        nn.ReLU(),\n",
    "\n",
    "        nn.Conv2d(in_channels=in_channels*2, out_channels=in_channels*2, kernel_size=3, stride=1),\n",
    "        nn.BatchNorm2d(num_feeatures=in_channels*2),\n",
    "        nn.ReLU()\n",
    "    )\n",
    "\n",
    "    return trough"
   ]
  },
  {
   "cell_type": "code",
   "execution_count": null,
   "id": "06dbb02b",
   "metadata": {},
   "outputs": [],
   "source": [
    "def train_U_Net():\n",
    "    skip1, encoder1 = build_encoder_block(256, 256)\n",
    "    skip2, encoder2 = build_encoder_block(256, 256)\n",
    "    skip3, encoder3 = build_encoder_block(256, 256)\n",
    "    skip4, encoder4 = build_encoder_block()\n",
    "    \n",
    "    trough = build_trough_block()\n",
    "    \n",
    "    decoder1 = build_decoder_block()\n",
    "    decoder2 = build_decoder_block()\n",
    "    decoder3 = build_decoder_block()\n",
    "    decoder4 = build_decoder_block()\n",
    "\n",
    "    \n",
    "\n"
   ]
  }
 ],
 "metadata": {
  "kernelspec": {
   "display_name": "d2l",
   "language": "python",
   "name": "python3"
  },
  "language_info": {
   "codemirror_mode": {
    "name": "ipython",
    "version": 3
   },
   "file_extension": ".py",
   "mimetype": "text/x-python",
   "name": "python",
   "nbconvert_exporter": "python",
   "pygments_lexer": "ipython3",
   "version": "3.9.21"
  }
 },
 "nbformat": 4,
 "nbformat_minor": 5
}
