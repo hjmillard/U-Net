{
 "cells": [
  {
   "cell_type": "code",
   "execution_count": null,
   "id": "660e1e4f",
   "metadata": {},
   "outputs": [],
   "source": [
    "import torch\n",
    "from torch.utils.data import DataLoader\n",
    "import torchvision\n",
    "import os\n",
    "import nbimporter\n",
    "from dataset import VocDataset"
   ]
  },
  {
   "cell_type": "code",
   "execution_count": null,
   "id": "a96d7e75",
   "metadata": {},
   "outputs": [],
   "source": [
    "def get_data_loaders(data_dir, train_transforms, validation_transforms, batch_size):\n",
    "    train_loader = DataLoader(\n",
    "        VocDataset(data_dir, train_transforms, True),\n",
    "        batch_size=batch_size,\n",
    "        shuffle=True,\n",
    "        drop_last=True,\n",
    "        num_workers=0\n",
    "    )\n",
    "    validation_loader = DataLoader(\n",
    "        VocDataset(data_dir, validation_transforms, False),\n",
    "        batch_size=batch_size,\n",
    "        shuffle=False,\n",
    "        drop_last=True,\n",
    "        num_workers=0\n",
    "    )\n",
    "    return train_loader, validation_loader"
   ]
  },
  {
   "cell_type": "code",
   "execution_count": null,
   "id": "15e2ccaf",
   "metadata": {},
   "outputs": [],
   "source": [
    "VOC_COLORMAP = [[0, 0, 0], [128, 0, 0], [0, 128, 0], [128, 128, 0],\n",
    "                [0, 0, 128], [128, 0, 128], [0, 128, 128], [128, 128, 128],\n",
    "                [64, 0, 0], [192, 0, 0], [64, 128, 0], [192, 128, 0],\n",
    "                [64, 0, 128], [192, 0, 128], [64, 128, 128], [192, 128, 128],\n",
    "                [0, 64, 0], [128, 64, 0], [0, 192, 0], [128, 192, 0],\n",
    "                [0, 64, 128]]\n",
    "\n",
    "VOC_CLASSES = ['background', 'aeroplane', 'bicycle', 'bird', 'boat',\n",
    "               'bottle', 'bus', 'car', 'cat', 'chair', 'cow',\n",
    "               'diningtable', 'dog', 'horse', 'motorbike', 'person',\n",
    "               'potted plant', 'sheep', 'sofa', 'train', 'tv/monitor']\n",
    "\n",
    "\n",
    "def predict(test_iterator, model, device, image):\n",
    "    # test iterator is from DataLoader for test set.\n",
    "    X = test_iterator.dataset.normalize_image(image).unsqueeze(0)\n",
    "    prediction = model(X.to(device)).argmax(dim=1)\n",
    "    return prediction.reshape(prediction.shape[1], prediction.shape[2])\n",
    "\n",
    "def label_to_image(prediction, device):\n",
    "    color_map = torch.tensor(VOC_COLORMAP, device=device)\n",
    "    X = prediction.long()\n",
    "    return color_map[X, :]"
   ]
  },
  {
   "cell_type": "code",
   "execution_count": null,
   "id": "4eb22535",
   "metadata": {},
   "outputs": [],
   "source": [
    "def save_checkpoint(state_dict, checkpoint_file='model/model.pt'):\n",
    "    '''Saves the model state to disc.'''\n",
    "    # if not os.path.exists(checkpoint_file):\n",
    "    #     print(f'Error. The path {checkpoint_file} does not exist. Could not save model state.')\n",
    "    torch.save(state_dict, checkpoint_file)\n",
    "\n",
    "def load_checkpoint(model, checkpoint_file='model/model.pt'):\n",
    "    '''Loads the model state from disc.'''\n",
    "    if not os.path.exists(checkpoint_file):\n",
    "        print(f'Error. The path {checkpoint_file} does not exist. Could not retreive model state.')\n",
    "    model.load_state_dict(checkpoint_file)"
   ]
  },
  {
   "cell_type": "code",
   "execution_count": null,
   "id": "5c2ce324",
   "metadata": {},
   "outputs": [],
   "source": [
    "# TODO: complete the function to save prediction images to the predictions/ directory\n",
    "\n",
    "def save_predictions(loader, model, folder='predictions/', device='cuda'):\n",
    "    model.eval()\n",
    "    for index, (feature, label) in enumerate(loader):\n",
    "        feature = feature.to(device)\n",
    "        with torch.no_grad():\n",
    "            predictions = predict(model(feature))\n",
    "            "
   ]
  }
 ],
 "metadata": {
  "kernelspec": {
   "display_name": "d2l",
   "language": "python",
   "name": "python3"
  },
  "language_info": {
   "codemirror_mode": {
    "name": "ipython",
    "version": 3
   },
   "file_extension": ".py",
   "mimetype": "text/x-python",
   "name": "python",
   "nbconvert_exporter": "python",
   "pygments_lexer": "ipython3",
   "version": "3.9.21"
  }
 },
 "nbformat": 4,
 "nbformat_minor": 5
}
