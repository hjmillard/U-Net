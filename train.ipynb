{
 "cells": [
  {
   "cell_type": "code",
   "execution_count": null,
   "id": "fa1bc39e",
   "metadata": {},
   "outputs": [],
   "source": [
    "import torch\n",
    "import torchvision\n",
    "import torchvision.transforms as T\n",
    "import nbimporter\n",
    "from unet import YouNet\n",
    "import utils"
   ]
  },
  {
   "cell_type": "code",
   "execution_count": null,
   "id": "81c1769e",
   "metadata": {},
   "outputs": [],
   "source": [
    "NUM_WORKERS = 0\n",
    "BATCH_SIZE = 32\n",
    "NUM_EPOCHS = 10\n",
    "IMAGE_HEIGHT = 320\n",
    "IMAGE_WIDTH = 480\n",
    "DEVICE = 'cuda' if torch.cuda.is_available() else 'cpu'\n",
    "LEARNING_RATE = 1e-3\n",
    "WEIGHT_DECAY = 1e-4\n",
    "DATA_DIR = 'C:/Users/Hayden/Machine Learning/d2l/d2l-en/pytorch/chapter_computer-vision/data/VOCdevkit/VOC2012/'"
   ]
  },
  {
   "cell_type": "code",
   "execution_count": null,
   "id": "2bf52982",
   "metadata": {},
   "outputs": [],
   "source": [
    "def train_batch(loader, model, optimizer, loss, scaler):\n",
    "    for batch_i, (features, labels) in enumerate(loader):\n",
    "        features.to(DEVICE)\n",
    "        labels.to(DEVICE)\n",
    "\n",
    "        # Forward propagation\n",
    "        with torch.autocast():\n",
    "            predictions = model(features)\n",
    "            cost = loss(predictions, labels)\n",
    "        \n",
    "        # Backward propagation\n",
    "        optimizer.zero_grad()\n",
    "        scaler.scale(cost).backward()\n",
    "        scaler.step(optimizer)\n",
    "        scaler.update()"
   ]
  },
  {
   "cell_type": "code",
   "execution_count": null,
   "id": "6c7ee71e",
   "metadata": {},
   "outputs": [],
   "source": [
    "def train(model, transforms, batch_size):\n",
    "    model = YouNet(in_channels=128, out_channels=20).to(DEVICE)\n",
    "    train_transform = T.Compose([\n",
    "        T.RandomHorizontalFlip(),\n",
    "        T.RandomVerticalFlip(),\n",
    "        T.ToTensor()\n",
    "    ])\n",
    "    validation_transform = T.Compose([\n",
    "        T.ToTensor()\n",
    "    ])\n",
    "    train_loader, validation_loader = utils.get_loaders(\n",
    "        data_dir=DATA_DIR,\n",
    "        train_transforms=train_transform,\n",
    "        validation_transforms=validation_transform,\n",
    "        batch_size=BATCH_SIZE,\n",
    "    )\n",
    "\n",
    "    # Initialize weights\n",
    "    # def init_weights(module):\n",
    "    #     if type(module) in [torch.nn.Linear, torch.nn.Conv2d]:\n",
    "    #         torch.nn.init.normal_(module.weight, std=0.01)\n",
    "    # model.apply(init_weights)\n",
    "\n",
    "    loss = torch.nn.CrossEntropyLoss()\n",
    "    optimizer = torch.optim.Adam(model.parameters(), lr=LEARNING_RATE, wd=WEIGHT_DECAY)\n",
    "\n",
    "\n",
    "    scaler = torch.cuda.amp.GradScaler()\n",
    "    for epoch in range(NUM_EPOCHS):\n",
    "        train_batch(train_loader, model, optimizer, loss, scaler)\n",
    "\n",
    "        checkpoint = {\n",
    "            'model': model.state_dict(),\n",
    "            'optimizer': optimizer.state_dict()\n",
    "        }\n",
    "        utils.save_checkpoint(checkpoint)\n",
    "\n",
    "        # TODO: Complete the predictions accuracy function and save predictions to disc.\n",
    "        \n",
    "        # predictions accuracy\n",
    "        \n",
    "        # utils.save_predictions(validation_loader, model, data_dir='predictions/', device=DEVICE)"
   ]
  }
 ],
 "metadata": {
  "kernelspec": {
   "display_name": "d2l",
   "language": "python",
   "name": "python3"
  },
  "language_info": {
   "codemirror_mode": {
    "name": "ipython",
    "version": 3
   },
   "file_extension": ".py",
   "mimetype": "text/x-python",
   "name": "python",
   "nbconvert_exporter": "python",
   "pygments_lexer": "ipython3",
   "version": "3.9.21"
  }
 },
 "nbformat": 4,
 "nbformat_minor": 5
}
