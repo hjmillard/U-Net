{
 "cells": [
  {
   "cell_type": "code",
   "execution_count": 2,
   "id": "56018fac",
   "metadata": {},
   "outputs": [],
   "source": [
    "import torch\n",
    "from torch.utils.data import Dataset\n",
    "from PIL import Image\n",
    "import pandas as pd\n",
    "from torchvision import models, transforms\n",
    "import os"
   ]
  },
  {
   "cell_type": "code",
   "execution_count": 4,
   "id": "4f8fb1da",
   "metadata": {},
   "outputs": [
    {
     "data": {
      "text/plain": [
       "('C:/Users/Hayden/Machine Learning/ithegi/U-Net/data\\\\images\\\\test\\\\0003d84e0165d630.jpg',\n",
       " array([0.2265625 , 0.2       , 0.2953125 , 0.43333334]))"
      ]
     },
     "execution_count": 4,
     "metadata": {},
     "output_type": "execute_result"
    }
   ],
   "source": [
    "class VOC2012_Dataset(Dataset):\n",
    "    def __init__(self, data_dir, annotations_file, transforms=None):\n",
    "        self.annotations = pd.read_csv(os.path.join(data_dir, annotations_file))\n",
    "        self.data_dir = data_dir\n",
    "        self.transforms = transforms\n",
    "\n",
    "        self.samples = []\n",
    "        for _, row in self.annotations.iterrows():\n",
    "            img_id = row['ImageID']\n",
    "            img_path = os.path.join(data_dir, 'images', 'test', img_id + '.jpg')\n",
    "            boxes = row[['XMin','YMin','XMax','YMax']].values.astype(float)\n",
    "            self.samples.append((img_path, boxes))\n",
    "    \n",
    "    def __len__(self):\n",
    "        return len(self.annotations)\n",
    "    \n",
    "    def __getitem__(self, idx):\n",
    "        image_path = os.path.join(self.data_dir, 'images/test/' + self.annotations.iloc[idx, 0] + '.jpg')\n",
    "        label = self.annotations.iloc[idx][['XMin', 'XMax', 'YMin', 'YMax']]\n",
    "        \n",
    "        path, boxes = self.samples[idx]\n",
    "        image = Image.open(image_path).convert(\"RGB\")\n",
    "        if self.transforms:\n",
    "            image = self.transforms(image)\n",
    "        \n",
    "        # return image, label\n",
    "        return path, boxes\n",
    "\n",
    "\n",
    "dataset = VOC2012_Dataset('C:/Users/Hayden/Machine Learning/ithegi/U-Net/data', 'bbox/test-annotations-bbox-person.csv')\n",
    "dataset[0]"
   ]
  },
  {
   "cell_type": "code",
   "execution_count": null,
   "id": "753ec072",
   "metadata": {},
   "outputs": [],
   "source": []
  }
 ],
 "metadata": {
  "kernelspec": {
   "display_name": "d2l",
   "language": "python",
   "name": "python3"
  },
  "language_info": {
   "codemirror_mode": {
    "name": "ipython",
    "version": 3
   },
   "file_extension": ".py",
   "mimetype": "text/x-python",
   "name": "python",
   "nbconvert_exporter": "python",
   "pygments_lexer": "ipython3",
   "version": "3.9.21"
  }
 },
 "nbformat": 4,
 "nbformat_minor": 5
}
